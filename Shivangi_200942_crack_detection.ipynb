{
 "cells": [
  {
   "cell_type": "code",
   "execution_count": 147,
   "id": "44aaf552",
   "metadata": {},
   "outputs": [],
   "source": [
    "import numpy as np\n",
    "import pandas as pd\n",
    "import matplotlib.pyplot as plt\n",
    "%matplotlib inline\n",
    "import seaborn as sns\n",
    "from numpy import log,dot,exp,shape\n",
    "#from sklearn.linear_model import LogisticRegression\n",
    "from sklearn.model_selection import train_test_split\n",
    "from sklearn.datasets import make_classification\n",
    "from sklearn.preprocessing import StandardScaler\n",
    "from sklearn.svm import SVC\n",
    "from sklearn.metrics import confusion_matrix\n",
    "from sklearn.metrics import precision_score, recall_score, f1_score, accuracy_score\n",
    "import warnings\n",
    "warnings.filterwarnings(\"ignore\")"
   ]
  },
  {
   "cell_type": "code",
   "execution_count": 148,
   "id": "3ddf5d8e",
   "metadata": {},
   "outputs": [
    {
     "data": {
      "text/html": [
       "<div>\n",
       "<style scoped>\n",
       "    .dataframe tbody tr th:only-of-type {\n",
       "        vertical-align: middle;\n",
       "    }\n",
       "\n",
       "    .dataframe tbody tr th {\n",
       "        vertical-align: top;\n",
       "    }\n",
       "\n",
       "    .dataframe thead th {\n",
       "        text-align: right;\n",
       "    }\n",
       "</style>\n",
       "<table border=\"1\" class=\"dataframe\">\n",
       "  <thead>\n",
       "    <tr style=\"text-align: right;\">\n",
       "      <th></th>\n",
       "      <th>Unnamed: 0</th>\n",
       "      <th>mean_r</th>\n",
       "      <th>std_r</th>\n",
       "      <th>kur_r</th>\n",
       "      <th>skew_r</th>\n",
       "      <th>mean_g</th>\n",
       "      <th>std_g</th>\n",
       "      <th>kur_g</th>\n",
       "      <th>skew_g</th>\n",
       "      <th>mean_b</th>\n",
       "      <th>...</th>\n",
       "      <th>contrast_r</th>\n",
       "      <th>contrast_g</th>\n",
       "      <th>contrast_b</th>\n",
       "      <th>corr_rg</th>\n",
       "      <th>corr_rb</th>\n",
       "      <th>corr_gb</th>\n",
       "      <th>moment_r</th>\n",
       "      <th>moment_g</th>\n",
       "      <th>moment_b</th>\n",
       "      <th>label</th>\n",
       "    </tr>\n",
       "  </thead>\n",
       "  <tbody>\n",
       "    <tr>\n",
       "      <th>0</th>\n",
       "      <td>0</td>\n",
       "      <td>107.5734</td>\n",
       "      <td>29.267480</td>\n",
       "      <td>0.744029</td>\n",
       "      <td>0.408828</td>\n",
       "      <td>110.2533</td>\n",
       "      <td>26.953218</td>\n",
       "      <td>1.254689</td>\n",
       "      <td>-0.135613</td>\n",
       "      <td>113.5715</td>\n",
       "      <td>...</td>\n",
       "      <td>9.181953</td>\n",
       "      <td>177.0</td>\n",
       "      <td>173.0</td>\n",
       "      <td>162.0</td>\n",
       "      <td>0.951368</td>\n",
       "      <td>0.913876</td>\n",
       "      <td>0.803333</td>\n",
       "      <td>856.585412</td>\n",
       "      <td>726.475939</td>\n",
       "      <td>0</td>\n",
       "    </tr>\n",
       "    <tr>\n",
       "      <th>1</th>\n",
       "      <td>1</td>\n",
       "      <td>178.6713</td>\n",
       "      <td>14.917756</td>\n",
       "      <td>3.192406</td>\n",
       "      <td>0.238175</td>\n",
       "      <td>184.4947</td>\n",
       "      <td>14.882156</td>\n",
       "      <td>3.035196</td>\n",
       "      <td>0.141160</td>\n",
       "      <td>190.8538</td>\n",
       "      <td>...</td>\n",
       "      <td>9.207314</td>\n",
       "      <td>142.0</td>\n",
       "      <td>136.0</td>\n",
       "      <td>129.0</td>\n",
       "      <td>0.988325</td>\n",
       "      <td>0.989474</td>\n",
       "      <td>0.976787</td>\n",
       "      <td>222.539456</td>\n",
       "      <td>221.478572</td>\n",
       "      <td>0</td>\n",
       "    </tr>\n",
       "    <tr>\n",
       "      <th>2</th>\n",
       "      <td>2</td>\n",
       "      <td>176.6517</td>\n",
       "      <td>34.618255</td>\n",
       "      <td>-0.146336</td>\n",
       "      <td>-0.421552</td>\n",
       "      <td>161.3083</td>\n",
       "      <td>33.688699</td>\n",
       "      <td>0.057178</td>\n",
       "      <td>-0.521476</td>\n",
       "      <td>147.2760</td>\n",
       "      <td>...</td>\n",
       "      <td>9.186737</td>\n",
       "      <td>199.0</td>\n",
       "      <td>200.0</td>\n",
       "      <td>194.0</td>\n",
       "      <td>0.968581</td>\n",
       "      <td>0.967398</td>\n",
       "      <td>0.890845</td>\n",
       "      <td>1198.423587</td>\n",
       "      <td>1134.928451</td>\n",
       "      <td>1</td>\n",
       "    </tr>\n",
       "    <tr>\n",
       "      <th>3</th>\n",
       "      <td>3</td>\n",
       "      <td>113.5760</td>\n",
       "      <td>20.084502</td>\n",
       "      <td>0.719752</td>\n",
       "      <td>0.737728</td>\n",
       "      <td>114.0056</td>\n",
       "      <td>19.536222</td>\n",
       "      <td>0.655846</td>\n",
       "      <td>0.729521</td>\n",
       "      <td>113.6179</td>\n",
       "      <td>...</td>\n",
       "      <td>9.197973</td>\n",
       "      <td>146.0</td>\n",
       "      <td>142.0</td>\n",
       "      <td>138.0</td>\n",
       "      <td>0.987383</td>\n",
       "      <td>0.983663</td>\n",
       "      <td>0.961305</td>\n",
       "      <td>403.387224</td>\n",
       "      <td>381.663969</td>\n",
       "      <td>0</td>\n",
       "    </tr>\n",
       "    <tr>\n",
       "      <th>4</th>\n",
       "      <td>4</td>\n",
       "      <td>125.3565</td>\n",
       "      <td>29.251595</td>\n",
       "      <td>0.430344</td>\n",
       "      <td>0.833496</td>\n",
       "      <td>129.5277</td>\n",
       "      <td>28.661968</td>\n",
       "      <td>0.475502</td>\n",
       "      <td>0.804161</td>\n",
       "      <td>131.9745</td>\n",
       "      <td>...</td>\n",
       "      <td>9.189257</td>\n",
       "      <td>173.0</td>\n",
       "      <td>176.0</td>\n",
       "      <td>177.0</td>\n",
       "      <td>0.980727</td>\n",
       "      <td>0.986702</td>\n",
       "      <td>0.950291</td>\n",
       "      <td>855.655808</td>\n",
       "      <td>821.508433</td>\n",
       "      <td>1</td>\n",
       "    </tr>\n",
       "  </tbody>\n",
       "</table>\n",
       "<p>5 rows × 25 columns</p>\n",
       "</div>"
      ],
      "text/plain": [
       "   Unnamed: 0    mean_r      std_r     kur_r    skew_r    mean_g      std_g  \\\n",
       "0           0  107.5734  29.267480  0.744029  0.408828  110.2533  26.953218   \n",
       "1           1  178.6713  14.917756  3.192406  0.238175  184.4947  14.882156   \n",
       "2           2  176.6517  34.618255 -0.146336 -0.421552  161.3083  33.688699   \n",
       "3           3  113.5760  20.084502  0.719752  0.737728  114.0056  19.536222   \n",
       "4           4  125.3565  29.251595  0.430344  0.833496  129.5277  28.661968   \n",
       "\n",
       "      kur_g    skew_g    mean_b  ...  contrast_r  contrast_g  contrast_b  \\\n",
       "0  1.254689 -0.135613  113.5715  ...    9.181953       177.0       173.0   \n",
       "1  3.035196  0.141160  190.8538  ...    9.207314       142.0       136.0   \n",
       "2  0.057178 -0.521476  147.2760  ...    9.186737       199.0       200.0   \n",
       "3  0.655846  0.729521  113.6179  ...    9.197973       146.0       142.0   \n",
       "4  0.475502  0.804161  131.9745  ...    9.189257       173.0       176.0   \n",
       "\n",
       "   corr_rg   corr_rb   corr_gb  moment_r     moment_g     moment_b  label  \n",
       "0    162.0  0.951368  0.913876  0.803333   856.585412   726.475939      0  \n",
       "1    129.0  0.988325  0.989474  0.976787   222.539456   221.478572      0  \n",
       "2    194.0  0.968581  0.967398  0.890845  1198.423587  1134.928451      1  \n",
       "3    138.0  0.987383  0.983663  0.961305   403.387224   381.663969      0  \n",
       "4    177.0  0.980727  0.986702  0.950291   855.655808   821.508433      1  \n",
       "\n",
       "[5 rows x 25 columns]"
      ]
     },
     "execution_count": 148,
     "metadata": {},
     "output_type": "execute_result"
    }
   ],
   "source": [
    "df = pd.read_csv(\"crack_detection.csv\")\n",
    "df.head()"
   ]
  },
  {
   "cell_type": "code",
   "execution_count": 149,
   "id": "9dcc0d99",
   "metadata": {},
   "outputs": [
    {
     "data": {
      "text/plain": [
       "(700, 25)"
      ]
     },
     "execution_count": 149,
     "metadata": {},
     "output_type": "execute_result"
    }
   ],
   "source": [
    "df.shape"
   ]
  },
  {
   "cell_type": "code",
   "execution_count": 192,
   "id": "80f9f6db",
   "metadata": {},
   "outputs": [
    {
     "data": {
      "text/plain": [
       "Unnamed: 0    0\n",
       "mean_r        0\n",
       "std_r         0\n",
       "kur_r         0\n",
       "skew_r        0\n",
       "mean_g        0\n",
       "std_g         0\n",
       "kur_g         0\n",
       "skew_g        0\n",
       "mean_b        0\n",
       "std_b         0\n",
       "kur_b         0\n",
       "skew_b        0\n",
       "entropy_r     0\n",
       "entropy_g     0\n",
       "contrast_r    0\n",
       "contrast_g    0\n",
       "contrast_b    0\n",
       "corr_rg       0\n",
       "corr_rb       0\n",
       "corr_gb       0\n",
       "moment_r      0\n",
       "moment_g      0\n",
       "moment_b      0\n",
       "label         0\n",
       "dtype: int64"
      ]
     },
     "execution_count": 192,
     "metadata": {},
     "output_type": "execute_result"
    }
   ],
   "source": [
    "df.isnull().sum()"
   ]
  },
  {
   "cell_type": "code",
   "execution_count": 193,
   "id": "7a05f9a8",
   "metadata": {},
   "outputs": [
    {
     "data": {
      "text/plain": [
       "<bound method DataFrame.info of      Unnamed: 0    mean_r      std_r     kur_r    skew_r    mean_g      std_g  \\\n",
       "0             0  107.5734  29.267480  0.744029  0.408828  110.2533  26.953218   \n",
       "1             1  178.6713  14.917756  3.192406  0.238175  184.4947  14.882156   \n",
       "2             2  176.6517  34.618255 -0.146336 -0.421552  161.3083  33.688699   \n",
       "3             3  113.5760  20.084502  0.719752  0.737728  114.0056  19.536222   \n",
       "4             4  125.3565  29.251595  0.430344  0.833496  129.5277  28.661968   \n",
       "..          ...       ...        ...       ...       ...       ...        ...   \n",
       "695         695  147.4849  39.849040 -0.413560 -0.713162  143.8830  36.109081   \n",
       "696         696  131.6387  22.462007  0.060316 -0.598803  129.3470  20.965238   \n",
       "697         697  124.9098  24.410827 -0.014904  0.298252  130.4604  23.675959   \n",
       "698         698  100.5366  41.107908 -0.385692  0.309762   98.8532  40.835684   \n",
       "699         699  138.0759   6.627016  2.339072  0.414758  137.9345   6.328697   \n",
       "\n",
       "        kur_g    skew_g    mean_b  ...  contrast_r  contrast_g  contrast_b  \\\n",
       "0    1.254689 -0.135613  113.5715  ...    9.181953       177.0       173.0   \n",
       "1    3.035196  0.141160  190.8538  ...    9.207314       142.0       136.0   \n",
       "2    0.057178 -0.521476  147.2760  ...    9.186737       199.0       200.0   \n",
       "3    0.655846  0.729521  113.6179  ...    9.197973       146.0       142.0   \n",
       "4    0.475502  0.804161  131.9745  ...    9.189257       173.0       176.0   \n",
       "..        ...       ...       ...  ...         ...         ...         ...   \n",
       "695 -0.333042 -0.721668  138.3563  ...    9.180812       196.0       180.0   \n",
       "696  0.249974 -0.611380  125.9734  ...    9.199403       169.0       163.0   \n",
       "697 -0.086843  0.180634  135.0006  ...    9.195094       152.0       145.0   \n",
       "698 -0.356037  0.269909   98.9559  ...    9.125664       233.0       231.0   \n",
       "699  2.939153  0.477630  137.8309  ...    9.209413        93.0        91.0   \n",
       "\n",
       "     corr_rg   corr_rb   corr_gb  moment_r     moment_g     moment_b  label  \n",
       "0      162.0  0.951368  0.913876  0.803333   856.585412   726.475939      0  \n",
       "1      129.0  0.988325  0.989474  0.976787   222.539456   221.478572      0  \n",
       "2      194.0  0.968581  0.967398  0.890845  1198.423587  1134.928451      1  \n",
       "3      138.0  0.987383  0.983663  0.961305   403.387224   381.663969      0  \n",
       "4      177.0  0.980727  0.986702  0.950291   855.655808   821.508433      1  \n",
       "..       ...       ...       ...       ...          ...          ...    ...  \n",
       "695    168.0  0.991360  0.988178  0.968726  1587.945972  1303.865711      1  \n",
       "696    157.0  0.992205  0.977108  0.954988   504.541762   439.541191      1  \n",
       "697    143.0  0.981116  0.986397  0.953482   595.888464   560.551032      0  \n",
       "698    227.0  0.996501  0.997454  0.994056  1689.860060  1667.553050      1  \n",
       "699     92.0  0.962479  0.948542  0.926412    43.917339    40.052410      0  \n",
       "\n",
       "[700 rows x 25 columns]>"
      ]
     },
     "execution_count": 193,
     "metadata": {},
     "output_type": "execute_result"
    }
   ],
   "source": [
    "df.info"
   ]
  },
  {
   "cell_type": "code",
   "execution_count": 194,
   "id": "e021d4f8",
   "metadata": {},
   "outputs": [
    {
     "data": {
      "text/html": [
       "<div>\n",
       "<style scoped>\n",
       "    .dataframe tbody tr th:only-of-type {\n",
       "        vertical-align: middle;\n",
       "    }\n",
       "\n",
       "    .dataframe tbody tr th {\n",
       "        vertical-align: top;\n",
       "    }\n",
       "\n",
       "    .dataframe thead th {\n",
       "        text-align: right;\n",
       "    }\n",
       "</style>\n",
       "<table border=\"1\" class=\"dataframe\">\n",
       "  <thead>\n",
       "    <tr style=\"text-align: right;\">\n",
       "      <th></th>\n",
       "      <th>Unnamed: 0</th>\n",
       "      <th>mean_r</th>\n",
       "      <th>std_r</th>\n",
       "      <th>kur_r</th>\n",
       "      <th>skew_r</th>\n",
       "      <th>mean_g</th>\n",
       "      <th>std_g</th>\n",
       "      <th>kur_g</th>\n",
       "      <th>skew_g</th>\n",
       "      <th>mean_b</th>\n",
       "      <th>...</th>\n",
       "      <th>contrast_r</th>\n",
       "      <th>contrast_g</th>\n",
       "      <th>contrast_b</th>\n",
       "      <th>corr_rg</th>\n",
       "      <th>corr_rb</th>\n",
       "      <th>corr_gb</th>\n",
       "      <th>moment_r</th>\n",
       "      <th>moment_g</th>\n",
       "      <th>moment_b</th>\n",
       "      <th>label</th>\n",
       "    </tr>\n",
       "  </thead>\n",
       "  <tbody>\n",
       "    <tr>\n",
       "      <th>count</th>\n",
       "      <td>700.00000</td>\n",
       "      <td>700.000000</td>\n",
       "      <td>700.000000</td>\n",
       "      <td>700.000000</td>\n",
       "      <td>700.000000</td>\n",
       "      <td>700.000000</td>\n",
       "      <td>700.000000</td>\n",
       "      <td>700.000000</td>\n",
       "      <td>700.000000</td>\n",
       "      <td>700.000000</td>\n",
       "      <td>...</td>\n",
       "      <td>700.000000</td>\n",
       "      <td>700.000000</td>\n",
       "      <td>700.000000</td>\n",
       "      <td>700.000000</td>\n",
       "      <td>700.000000</td>\n",
       "      <td>700.000000</td>\n",
       "      <td>700.000000</td>\n",
       "      <td>700.000000</td>\n",
       "      <td>700.000000</td>\n",
       "      <td>700.000000</td>\n",
       "    </tr>\n",
       "    <tr>\n",
       "      <th>mean</th>\n",
       "      <td>349.50000</td>\n",
       "      <td>129.904131</td>\n",
       "      <td>29.725915</td>\n",
       "      <td>0.783304</td>\n",
       "      <td>0.210021</td>\n",
       "      <td>129.513118</td>\n",
       "      <td>28.191406</td>\n",
       "      <td>0.905234</td>\n",
       "      <td>0.210064</td>\n",
       "      <td>128.842019</td>\n",
       "      <td>...</td>\n",
       "      <td>9.185198</td>\n",
       "      <td>178.245714</td>\n",
       "      <td>173.781429</td>\n",
       "      <td>170.375714</td>\n",
       "      <td>0.984945</td>\n",
       "      <td>0.982444</td>\n",
       "      <td>0.958198</td>\n",
       "      <td>978.008986</td>\n",
       "      <td>880.738813</td>\n",
       "      <td>0.498571</td>\n",
       "    </tr>\n",
       "    <tr>\n",
       "      <th>std</th>\n",
       "      <td>202.21688</td>\n",
       "      <td>22.533741</td>\n",
       "      <td>9.721830</td>\n",
       "      <td>2.921148</td>\n",
       "      <td>0.832188</td>\n",
       "      <td>20.781828</td>\n",
       "      <td>9.279358</td>\n",
       "      <td>3.000051</td>\n",
       "      <td>0.848674</td>\n",
       "      <td>19.436542</td>\n",
       "      <td>...</td>\n",
       "      <td>0.018515</td>\n",
       "      <td>33.888983</td>\n",
       "      <td>34.655417</td>\n",
       "      <td>35.610478</td>\n",
       "      <td>0.024409</td>\n",
       "      <td>0.027450</td>\n",
       "      <td>0.069144</td>\n",
       "      <td>565.834008</td>\n",
       "      <td>520.580605</td>\n",
       "      <td>0.500355</td>\n",
       "    </tr>\n",
       "    <tr>\n",
       "      <th>min</th>\n",
       "      <td>0.00000</td>\n",
       "      <td>72.085700</td>\n",
       "      <td>5.257114</td>\n",
       "      <td>-1.616288</td>\n",
       "      <td>-3.788320</td>\n",
       "      <td>78.022200</td>\n",
       "      <td>4.543611</td>\n",
       "      <td>-1.567842</td>\n",
       "      <td>-3.761659</td>\n",
       "      <td>82.738400</td>\n",
       "      <td>...</td>\n",
       "      <td>9.085941</td>\n",
       "      <td>55.000000</td>\n",
       "      <td>48.000000</td>\n",
       "      <td>52.000000</td>\n",
       "      <td>0.731441</td>\n",
       "      <td>0.740211</td>\n",
       "      <td>0.279195</td>\n",
       "      <td>27.637244</td>\n",
       "      <td>20.644398</td>\n",
       "      <td>0.000000</td>\n",
       "    </tr>\n",
       "    <tr>\n",
       "      <th>25%</th>\n",
       "      <td>174.75000</td>\n",
       "      <td>117.223100</td>\n",
       "      <td>21.865794</td>\n",
       "      <td>-0.520055</td>\n",
       "      <td>-0.251850</td>\n",
       "      <td>118.032050</td>\n",
       "      <td>20.951718</td>\n",
       "      <td>-0.460405</td>\n",
       "      <td>-0.247178</td>\n",
       "      <td>118.039500</td>\n",
       "      <td>...</td>\n",
       "      <td>9.177954</td>\n",
       "      <td>152.750000</td>\n",
       "      <td>150.000000</td>\n",
       "      <td>146.000000</td>\n",
       "      <td>0.984907</td>\n",
       "      <td>0.982613</td>\n",
       "      <td>0.957100</td>\n",
       "      <td>478.115830</td>\n",
       "      <td>438.975044</td>\n",
       "      <td>0.000000</td>\n",
       "    </tr>\n",
       "    <tr>\n",
       "      <th>50%</th>\n",
       "      <td>349.50000</td>\n",
       "      <td>127.525400</td>\n",
       "      <td>31.030772</td>\n",
       "      <td>-0.071472</td>\n",
       "      <td>0.211199</td>\n",
       "      <td>127.457500</td>\n",
       "      <td>29.333898</td>\n",
       "      <td>-0.011488</td>\n",
       "      <td>0.202783</td>\n",
       "      <td>126.579200</td>\n",
       "      <td>...</td>\n",
       "      <td>9.188351</td>\n",
       "      <td>184.500000</td>\n",
       "      <td>179.000000</td>\n",
       "      <td>175.000000</td>\n",
       "      <td>0.991413</td>\n",
       "      <td>0.989603</td>\n",
       "      <td>0.974893</td>\n",
       "      <td>962.908945</td>\n",
       "      <td>860.477925</td>\n",
       "      <td>0.000000</td>\n",
       "    </tr>\n",
       "    <tr>\n",
       "      <th>75%</th>\n",
       "      <td>524.25000</td>\n",
       "      <td>140.418825</td>\n",
       "      <td>37.210949</td>\n",
       "      <td>1.042058</td>\n",
       "      <td>0.593044</td>\n",
       "      <td>138.861175</td>\n",
       "      <td>34.737146</td>\n",
       "      <td>1.177957</td>\n",
       "      <td>0.613642</td>\n",
       "      <td>136.463700</td>\n",
       "      <td>...</td>\n",
       "      <td>9.199160</td>\n",
       "      <td>202.000000</td>\n",
       "      <td>197.000000</td>\n",
       "      <td>193.250000</td>\n",
       "      <td>0.994256</td>\n",
       "      <td>0.993197</td>\n",
       "      <td>0.983471</td>\n",
       "      <td>1384.654910</td>\n",
       "      <td>1206.669310</td>\n",
       "      <td>1.000000</td>\n",
       "    </tr>\n",
       "    <tr>\n",
       "      <th>max</th>\n",
       "      <td>699.00000</td>\n",
       "      <td>207.160800</td>\n",
       "      <td>52.226058</td>\n",
       "      <td>44.499978</td>\n",
       "      <td>5.645803</td>\n",
       "      <td>198.134400</td>\n",
       "      <td>51.168733</td>\n",
       "      <td>44.984072</td>\n",
       "      <td>5.623845</td>\n",
       "      <td>196.270800</td>\n",
       "      <td>...</td>\n",
       "      <td>9.209413</td>\n",
       "      <td>255.000000</td>\n",
       "      <td>254.000000</td>\n",
       "      <td>255.000000</td>\n",
       "      <td>0.998194</td>\n",
       "      <td>0.998387</td>\n",
       "      <td>0.997126</td>\n",
       "      <td>2727.561173</td>\n",
       "      <td>2618.239239</td>\n",
       "      <td>1.000000</td>\n",
       "    </tr>\n",
       "  </tbody>\n",
       "</table>\n",
       "<p>8 rows × 25 columns</p>\n",
       "</div>"
      ],
      "text/plain": [
       "       Unnamed: 0      mean_r       std_r       kur_r      skew_r      mean_g  \\\n",
       "count   700.00000  700.000000  700.000000  700.000000  700.000000  700.000000   \n",
       "mean    349.50000  129.904131   29.725915    0.783304    0.210021  129.513118   \n",
       "std     202.21688   22.533741    9.721830    2.921148    0.832188   20.781828   \n",
       "min       0.00000   72.085700    5.257114   -1.616288   -3.788320   78.022200   \n",
       "25%     174.75000  117.223100   21.865794   -0.520055   -0.251850  118.032050   \n",
       "50%     349.50000  127.525400   31.030772   -0.071472    0.211199  127.457500   \n",
       "75%     524.25000  140.418825   37.210949    1.042058    0.593044  138.861175   \n",
       "max     699.00000  207.160800   52.226058   44.499978    5.645803  198.134400   \n",
       "\n",
       "            std_g       kur_g      skew_g      mean_b  ...  contrast_r  \\\n",
       "count  700.000000  700.000000  700.000000  700.000000  ...  700.000000   \n",
       "mean    28.191406    0.905234    0.210064  128.842019  ...    9.185198   \n",
       "std      9.279358    3.000051    0.848674   19.436542  ...    0.018515   \n",
       "min      4.543611   -1.567842   -3.761659   82.738400  ...    9.085941   \n",
       "25%     20.951718   -0.460405   -0.247178  118.039500  ...    9.177954   \n",
       "50%     29.333898   -0.011488    0.202783  126.579200  ...    9.188351   \n",
       "75%     34.737146    1.177957    0.613642  136.463700  ...    9.199160   \n",
       "max     51.168733   44.984072    5.623845  196.270800  ...    9.209413   \n",
       "\n",
       "       contrast_g  contrast_b     corr_rg     corr_rb     corr_gb    moment_r  \\\n",
       "count  700.000000  700.000000  700.000000  700.000000  700.000000  700.000000   \n",
       "mean   178.245714  173.781429  170.375714    0.984945    0.982444    0.958198   \n",
       "std     33.888983   34.655417   35.610478    0.024409    0.027450    0.069144   \n",
       "min     55.000000   48.000000   52.000000    0.731441    0.740211    0.279195   \n",
       "25%    152.750000  150.000000  146.000000    0.984907    0.982613    0.957100   \n",
       "50%    184.500000  179.000000  175.000000    0.991413    0.989603    0.974893   \n",
       "75%    202.000000  197.000000  193.250000    0.994256    0.993197    0.983471   \n",
       "max    255.000000  254.000000  255.000000    0.998194    0.998387    0.997126   \n",
       "\n",
       "          moment_g     moment_b       label  \n",
       "count   700.000000   700.000000  700.000000  \n",
       "mean    978.008986   880.738813    0.498571  \n",
       "std     565.834008   520.580605    0.500355  \n",
       "min      27.637244    20.644398    0.000000  \n",
       "25%     478.115830   438.975044    0.000000  \n",
       "50%     962.908945   860.477925    0.000000  \n",
       "75%    1384.654910  1206.669310    1.000000  \n",
       "max    2727.561173  2618.239239    1.000000  \n",
       "\n",
       "[8 rows x 25 columns]"
      ]
     },
     "execution_count": 194,
     "metadata": {},
     "output_type": "execute_result"
    }
   ],
   "source": [
    "df.describe()"
   ]
  },
  {
   "cell_type": "code",
   "execution_count": 195,
   "id": "99a878a3",
   "metadata": {},
   "outputs": [
    {
     "data": {
      "text/plain": [
       "0    351\n",
       "1    349\n",
       "Name: label, dtype: int64"
      ]
     },
     "execution_count": 195,
     "metadata": {},
     "output_type": "execute_result"
    }
   ],
   "source": [
    "df['label'].value_counts()"
   ]
  },
  {
   "cell_type": "code",
   "execution_count": 196,
   "id": "0be0d33c",
   "metadata": {},
   "outputs": [],
   "source": [
    "X = df.iloc[:,:-1].values\n",
    "Y = df.iloc[:,-1:].values"
   ]
  },
  {
   "cell_type": "code",
   "execution_count": 197,
   "id": "c73c88f2",
   "metadata": {},
   "outputs": [
    {
     "name": "stdout",
     "output_type": "stream",
     "text": [
      "[(700, 24), (700, 1)]\n"
     ]
    }
   ],
   "source": [
    "print([X.shape,Y.shape])"
   ]
  },
  {
   "cell_type": "code",
   "execution_count": 198,
   "id": "0c475c66",
   "metadata": {},
   "outputs": [],
   "source": [
    "def normalize(X):\n",
    "  return (X - np.mean(X,axis = 0))/np.std(X,axis = 0)"
   ]
  },
  {
   "cell_type": "code",
   "execution_count": 199,
   "id": "9e100aa4",
   "metadata": {},
   "outputs": [],
   "source": [
    "X = normalize(X)"
   ]
  },
  {
   "cell_type": "code",
   "execution_count": 200,
   "id": "b7b42c99",
   "metadata": {},
   "outputs": [],
   "source": [
    "X_train, X_test, y_train, y_test = train_test_split(X, Y, test_size=0.2, random_state=42)"
   ]
  },
  {
   "cell_type": "code",
   "execution_count": 201,
   "id": "46563c55",
   "metadata": {},
   "outputs": [
    {
     "data": {
      "text/plain": [
       "(560, 24)"
      ]
     },
     "execution_count": 201,
     "metadata": {},
     "output_type": "execute_result"
    }
   ],
   "source": [
    "X_train.shape"
   ]
  },
  {
   "cell_type": "code",
   "execution_count": 202,
   "id": "3b93739f",
   "metadata": {},
   "outputs": [
    {
     "data": {
      "text/plain": [
       "(560, 1)"
      ]
     },
     "execution_count": 202,
     "metadata": {},
     "output_type": "execute_result"
    }
   ],
   "source": [
    "y_train.shape"
   ]
  },
  {
   "cell_type": "code",
   "execution_count": 203,
   "id": "664e5cfd",
   "metadata": {},
   "outputs": [],
   "source": [
    "def sigmoid(x):\n",
    "  return 1.0/(1+np.exp(-x))"
   ]
  },
  {
   "cell_type": "code",
   "execution_count": 204,
   "id": "c33ccfec",
   "metadata": {},
   "outputs": [],
   "source": [
    "def forward(X,W,b):\n",
    "  y = sigmoid(np.dot(X,W)+b)\n",
    "  return y"
   ]
  },
  {
   "cell_type": "code",
   "execution_count": 205,
   "id": "798b7deb",
   "metadata": {},
   "outputs": [],
   "source": [
    "def predict(X,W,b):\n",
    "  predicted = sigmoid(np.dot(X,W)+b)\n",
    "  y = np.where(predicted>0.5,1,0)\n",
    "  return y"
   ]
  },
  {
   "cell_type": "code",
   "execution_count": 206,
   "id": "4b1b9ea5",
   "metadata": {},
   "outputs": [],
   "source": [
    "def costFunct(y,y_hat):\n",
    "  l = -np.mean(np.log(y_hat)*y + np.log(1-y_hat)*(1-y))\n",
    "  return l"
   ]
  },
  {
   "cell_type": "code",
   "execution_count": 207,
   "id": "39c5751c",
   "metadata": {},
   "outputs": [],
   "source": [
    "def gradient(X,Y,W,b):\n",
    "  m = X.shape[0]\n",
    "  y_hat = np.expand_dims(forward(X,W,b),axis =1)\n",
    "  dw = ((1/m)*np.dot(X.T, (y_hat - Y))).squeeze()\n",
    "  db = (1/m)*(np.sum((y_hat - Y)))\n",
    "  return dw,db"
   ]
  },
  {
   "cell_type": "code",
   "execution_count": 208,
   "id": "30c6ab6f",
   "metadata": {},
   "outputs": [],
   "source": [
    "def BinarylogRegClassifier(X,Y,num_iter,learning_rate=0.001):\n",
    "  m,n = X.shape\n",
    "  W = np.random.random((n))\n",
    "  b = np.random.random(1)\n",
    "  losses = []\n",
    "\n",
    "  for i in range(num_iter):\n",
    "    Y_hat = forward(X,W,b)\n",
    "    losses.append([i,costFunct(Y,Y_hat)])\n",
    "    dw,db = gradient(X,Y,W,b)\n",
    "    W -= learning_rate*dw\n",
    "    b -= learning_rate*db\n",
    "\n",
    "  return losses,W,b"
   ]
  },
  {
   "cell_type": "code",
   "execution_count": 209,
   "id": "b8e14406",
   "metadata": {},
   "outputs": [],
   "source": [
    "losses,W,b = BinarylogRegClassifier(X_train,y_train,10)"
   ]
  },
  {
   "cell_type": "code",
   "execution_count": 210,
   "id": "6744e0c8",
   "metadata": {},
   "outputs": [],
   "source": [
    "losses = np.asarray(losses)"
   ]
  },
  {
   "cell_type": "code",
   "execution_count": 211,
   "id": "dd78fdc6",
   "metadata": {},
   "outputs": [
    {
     "data": {
      "text/plain": [
       "(10, 2)"
      ]
     },
     "execution_count": 211,
     "metadata": {},
     "output_type": "execute_result"
    }
   ],
   "source": [
    "losses.shape"
   ]
  },
  {
   "cell_type": "code",
   "execution_count": 212,
   "id": "1b1885c4",
   "metadata": {},
   "outputs": [],
   "source": [
    "epochs = losses[:,0]\n",
    "loss = losses[:,1]"
   ]
  },
  {
   "cell_type": "code",
   "execution_count": 213,
   "id": "91ce5cef",
   "metadata": {},
   "outputs": [
    {
     "data": {
      "image/png": "[encoded data removed]",
      "text/plain": [
       "<Figure size 432x288 with 1 Axes>"
      ]
     },
     "metadata": {
      "needs_background": "light"
     },
     "output_type": "display_data"
    }
   ],
   "source": [
    "plt.plot(epochs,loss)\n",
    "plt.xlabel('Epochs')\n",
    "plt.ylabel('Loss')\n",
    "plt.title(\"Epochs vs Loss\")\n",
    "plt.show()"
   ]
  },
  {
   "cell_type": "code",
   "execution_count": 214,
   "id": "0a383cdf",
   "metadata": {},
   "outputs": [],
   "source": [
    "def accuracyCalculator(y,y_hat):\n",
    "  summ = 0\n",
    "  for i in range(len(y)):\n",
    "    if(y[i]==y_hat[i]):\n",
    "      summ += 1\n",
    "  accuracy = summ/len(y)\n",
    "  return accuracy"
   ]
  },
  {
   "cell_type": "code",
   "execution_count": 215,
   "id": "5e792540",
   "metadata": {},
   "outputs": [],
   "source": [
    "predictions = predict(X_test,W,b)"
   ]
  },
  {
   "cell_type": "code",
   "execution_count": 216,
   "id": "d47543c6",
   "metadata": {},
   "outputs": [
    {
     "data": {
      "text/plain": [
       "array([1, 1, 0, 1, 1, 1, 0, 0, 1, 1, 1, 1, 0, 1, 1, 0, 0, 1, 1, 1, 1, 1,\n",
       "       1, 0, 0, 1, 1, 1, 1, 1, 1, 1, 0, 1, 0, 1, 1, 1, 1, 1, 1, 1, 1, 1,\n",
       "       1, 1, 1, 0, 1, 1, 1, 1, 0, 0, 1, 1, 0, 1, 1, 1, 1, 0, 0, 1, 1, 0,\n",
       "       1, 1, 0, 1, 1, 1, 1, 1, 1, 1, 0, 0, 0, 0, 1, 1, 1, 1, 1, 0, 1, 1,\n",
       "       0, 0, 0, 1, 0, 0, 0, 1, 0, 1, 1, 1, 1, 1, 0, 1, 0, 1, 1, 1, 1, 1,\n",
       "       1, 1, 0, 0, 1, 1, 1, 1, 1, 1, 1, 1, 0, 0, 1, 1, 1, 0, 1, 0, 0, 0,\n",
       "       0, 1, 0, 0, 0, 0, 0, 1])"
      ]
     },
     "execution_count": 216,
     "metadata": {},
     "output_type": "execute_result"
    }
   ],
   "source": [
    "predictions"
   ]
  },
  {
   "cell_type": "code",
   "execution_count": 217,
   "id": "ccd39fc3",
   "metadata": {},
   "outputs": [
    {
     "data": {
      "text/plain": [
       "0.6428571428571429"
      ]
     },
     "execution_count": 217,
     "metadata": {},
     "output_type": "execute_result"
    }
   ],
   "source": [
    "accuracyCalculator(y_test,predictions)"
   ]
  },
  {
   "cell_type": "code",
   "execution_count": 218,
   "id": "8f269e3b",
   "metadata": {},
   "outputs": [],
   "source": [
    "from sklearn.linear_model import LogisticRegression\n",
    "logisticRegressor = LogisticRegression()"
   ]
  },
  {
   "cell_type": "code",
   "execution_count": 219,
   "id": "38a42e89",
   "metadata": {},
   "outputs": [
    {
     "data": {
      "text/plain": [
       "LogisticRegression()"
      ]
     },
     "execution_count": 219,
     "metadata": {},
     "output_type": "execute_result"
    }
   ],
   "source": [
    "logisticRegressor.fit(X_train,y_train.ravel())"
   ]
  },
  {
   "cell_type": "code",
   "execution_count": 220,
   "id": "d4965038",
   "metadata": {},
   "outputs": [
    {
     "data": {
      "text/plain": [
       "0.8785714285714286"
      ]
     },
     "execution_count": 220,
     "metadata": {},
     "output_type": "execute_result"
    }
   ],
   "source": [
    "logisticRegressor.score(X_test,y_test)"
   ]
  },
  {
   "cell_type": "code",
   "execution_count": 221,
   "id": "dda3aaf4",
   "metadata": {},
   "outputs": [
    {
     "data": {
      "text/plain": [
       "0.8517857142857143"
      ]
     },
     "execution_count": 221,
     "metadata": {},
     "output_type": "execute_result"
    }
   ],
   "source": [
    "logisticRegressor.score(X_train,y_train)"
   ]
  },
  {
   "cell_type": "code",
   "execution_count": 222,
   "id": "459460d5",
   "metadata": {},
   "outputs": [],
   "source": [
    "X_train, X_test, y_train, y_test = train_test_split( X, y, test_size=0.2, random_state=42)"
   ]
  },
  {
   "cell_type": "code",
   "execution_count": 223,
   "id": "8e658f8e",
   "metadata": {},
   "outputs": [],
   "source": [
    "X_train, X_val, y_train, y_val = train_test_split(X_train, y_train, \n",
    "    test_size=0.25, random_state= 8)"
   ]
  },
  {
   "cell_type": "code",
   "execution_count": 224,
   "id": "13caa25d",
   "metadata": {},
   "outputs": [
    {
     "data": {
      "text/plain": [
       "(420, 24)"
      ]
     },
     "execution_count": 224,
     "metadata": {},
     "output_type": "execute_result"
    }
   ],
   "source": [
    "X_train.shape"
   ]
  },
  {
   "cell_type": "code",
   "execution_count": 225,
   "id": "c565926e",
   "metadata": {},
   "outputs": [
    {
     "data": {
      "text/plain": [
       "(420,)"
      ]
     },
     "execution_count": 225,
     "metadata": {},
     "output_type": "execute_result"
    }
   ],
   "source": [
    "y_train.shape"
   ]
  },
  {
   "cell_type": "code",
   "execution_count": 226,
   "id": "468aa52b",
   "metadata": {},
   "outputs": [
    {
     "data": {
      "text/plain": [
       "(140, 24)"
      ]
     },
     "execution_count": 226,
     "metadata": {},
     "output_type": "execute_result"
    }
   ],
   "source": [
    "X_test.shape"
   ]
  },
  {
   "cell_type": "code",
   "execution_count": 227,
   "id": "c8760cf0",
   "metadata": {},
   "outputs": [
    {
     "data": {
      "text/plain": [
       "(140,)"
      ]
     },
     "execution_count": 227,
     "metadata": {},
     "output_type": "execute_result"
    }
   ],
   "source": [
    "y_test.shape"
   ]
  },
  {
   "cell_type": "code",
   "execution_count": 228,
   "id": "2a6863dd",
   "metadata": {},
   "outputs": [
    {
     "data": {
      "text/plain": [
       "(140, 24)"
      ]
     },
     "execution_count": 228,
     "metadata": {},
     "output_type": "execute_result"
    }
   ],
   "source": [
    "X_valid.shape"
   ]
  },
  {
   "cell_type": "code",
   "execution_count": 229,
   "id": "6850ece8",
   "metadata": {},
   "outputs": [
    {
     "data": {
      "text/plain": [
       "(140,)"
      ]
     },
     "execution_count": 229,
     "metadata": {},
     "output_type": "execute_result"
    }
   ],
   "source": [
    "y_valid.shape"
   ]
  },
  {
   "cell_type": "code",
   "execution_count": 230,
   "id": "1a1f4bb8",
   "metadata": {},
   "outputs": [],
   "source": [
    "sc = StandardScaler()\n",
    "sc.fit(X_train)\n",
    "X_train_std = sc.transform(X_train)\n",
    "X_test_std = sc.transform(X_test)\n",
    "\n",
    "svc = SVC(kernel='linear', C=10.0, random_state=1)\n",
    "svc.fit(X_train, y_train)          \n",
    "\n",
    "y_pred = svc.predict(X_test)"
   ]
  },
  {
   "cell_type": "code",
   "execution_count": 231,
   "id": "9d6d58db",
   "metadata": {},
   "outputs": [
    {
     "name": "stdout",
     "output_type": "stream",
     "text": [
      "F1 Score: 0.86\n"
     ]
    }
   ],
   "source": [
    "print('F1 Score: %.2f' % f1_score(y_test, y_pred))"
   ]
  },
  {
   "cell_type": "code",
   "execution_count": 232,
   "id": "e555c755",
   "metadata": {},
   "outputs": [
    {
     "data": {
      "text/plain": [
       "0.8642857142857143"
      ]
     },
     "execution_count": 232,
     "metadata": {},
     "output_type": "execute_result"
    }
   ],
   "source": [
    "accuracy_score(y_test,y_pred)"
   ]
  },
  {
   "cell_type": "code",
   "execution_count": null,
   "id": "dd7bc536",
   "metadata": {},
   "outputs": [],
   "source": []
  }
 ],
 "metadata": {
  "kernelspec": {
   "display_name": "Python 3 (ipykernel)",
   "language": "python",
   "name": "python3"
  },
  "language_info": {
   "codemirror_mode": {
    "name": "ipython",
    "version": 3
   },
   "file_extension": ".py",
   "mimetype": "text/x-python",
   "name": "python",
   "nbconvert_exporter": "python",
   "pygments_lexer": "ipython3",
   "version": "3.9.7"
  }
 },
 "nbformat": 4,
 "nbformat_minor": 5
}
